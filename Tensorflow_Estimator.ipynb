{
  "nbformat": 4,
  "nbformat_minor": 0,
  "metadata": {
    "colab": {
      "name": "Tensorflow Estimator.ipynb",
      "provenance": [],
      "collapsed_sections": [],
      "authorship_tag": "ABX9TyNc15wJFHbKoA4gC0K+psN2",
      "include_colab_link": true
    },
    "kernelspec": {
      "name": "python3",
      "display_name": "Python 3"
    }
  },
  "cells": [
    {
      "cell_type": "markdown",
      "metadata": {
        "id": "view-in-github",
        "colab_type": "text"
      },
      "source": [
        "<a href=\"https://colab.research.google.com/github/shravanc/tf/blob/master/Tensorflow_Estimator.ipynb\" target=\"_parent\"><img src=\"https://colab.research.google.com/assets/colab-badge.svg\" alt=\"Open In Colab\"/></a>"
      ]
    },
    {
      "cell_type": "code",
      "metadata": {
        "id": "w46_4bVNbYB4",
        "colab_type": "code",
        "colab": {}
      },
      "source": [
        "from __future__ import absolute_import, division, print_function, unicode_literals\n",
        "\n",
        "import os\n",
        "import sys\n",
        "\n",
        "import numpy as np\n",
        "import pandas as pd\n",
        "\n",
        "import tensorflow as tf\n",
        "from tensorflow import feature_column\n",
        "from sklearn.model_selection import train_test_split\n"
      ],
      "execution_count": 0,
      "outputs": []
    },
    {
      "cell_type": "code",
      "metadata": {
        "id": "YDHTCZwYb_QU",
        "colab_type": "code",
        "colab": {
          "base_uri": "https://localhost:8080/",
          "height": 204
        },
        "outputId": "cb58ab3b-645c-4079-9f3b-f16ab8155621"
      },
      "source": [
        "URL = 'https://raw.githubusercontent.com/shravanc/tf/master/tensorflow_api_tutorials/tic_tac_toe/tic-tac-toe.data.csv'\n",
        "df  = pd.read_csv(URL)\n",
        "df.head()"
      ],
      "execution_count": 13,
      "outputs": [
        {
          "output_type": "execute_result",
          "data": {
            "text/html": [
              "<div>\n",
              "<style scoped>\n",
              "    .dataframe tbody tr th:only-of-type {\n",
              "        vertical-align: middle;\n",
              "    }\n",
              "\n",
              "    .dataframe tbody tr th {\n",
              "        vertical-align: top;\n",
              "    }\n",
              "\n",
              "    .dataframe thead th {\n",
              "        text-align: right;\n",
              "    }\n",
              "</style>\n",
              "<table border=\"1\" class=\"dataframe\">\n",
              "  <thead>\n",
              "    <tr style=\"text-align: right;\">\n",
              "      <th></th>\n",
              "      <th>t_l_s</th>\n",
              "      <th>t_m_s</th>\n",
              "      <th>t_r_s</th>\n",
              "      <th>m_l_s</th>\n",
              "      <th>m_m_s</th>\n",
              "      <th>m_r_s</th>\n",
              "      <th>b_l_s</th>\n",
              "      <th>b_m_s</th>\n",
              "      <th>b_r_S</th>\n",
              "      <th>class</th>\n",
              "    </tr>\n",
              "  </thead>\n",
              "  <tbody>\n",
              "    <tr>\n",
              "      <th>0</th>\n",
              "      <td>x</td>\n",
              "      <td>x</td>\n",
              "      <td>x</td>\n",
              "      <td>x</td>\n",
              "      <td>o</td>\n",
              "      <td>o</td>\n",
              "      <td>x</td>\n",
              "      <td>o</td>\n",
              "      <td>o</td>\n",
              "      <td>1</td>\n",
              "    </tr>\n",
              "    <tr>\n",
              "      <th>1</th>\n",
              "      <td>x</td>\n",
              "      <td>x</td>\n",
              "      <td>x</td>\n",
              "      <td>x</td>\n",
              "      <td>o</td>\n",
              "      <td>o</td>\n",
              "      <td>o</td>\n",
              "      <td>x</td>\n",
              "      <td>o</td>\n",
              "      <td>1</td>\n",
              "    </tr>\n",
              "    <tr>\n",
              "      <th>2</th>\n",
              "      <td>x</td>\n",
              "      <td>x</td>\n",
              "      <td>x</td>\n",
              "      <td>x</td>\n",
              "      <td>o</td>\n",
              "      <td>o</td>\n",
              "      <td>o</td>\n",
              "      <td>o</td>\n",
              "      <td>x</td>\n",
              "      <td>1</td>\n",
              "    </tr>\n",
              "    <tr>\n",
              "      <th>3</th>\n",
              "      <td>x</td>\n",
              "      <td>x</td>\n",
              "      <td>x</td>\n",
              "      <td>x</td>\n",
              "      <td>o</td>\n",
              "      <td>o</td>\n",
              "      <td>o</td>\n",
              "      <td>b</td>\n",
              "      <td>b</td>\n",
              "      <td>1</td>\n",
              "    </tr>\n",
              "    <tr>\n",
              "      <th>4</th>\n",
              "      <td>x</td>\n",
              "      <td>x</td>\n",
              "      <td>x</td>\n",
              "      <td>x</td>\n",
              "      <td>o</td>\n",
              "      <td>o</td>\n",
              "      <td>b</td>\n",
              "      <td>o</td>\n",
              "      <td>b</td>\n",
              "      <td>1</td>\n",
              "    </tr>\n",
              "  </tbody>\n",
              "</table>\n",
              "</div>"
            ],
            "text/plain": [
              "  t_l_s t_m_s t_r_s m_l_s m_m_s m_r_s b_l_s b_m_s b_r_S  class\n",
              "0     x     x     x     x     o     o     x     o     o      1\n",
              "1     x     x     x     x     o     o     o     x     o      1\n",
              "2     x     x     x     x     o     o     o     o     x      1\n",
              "3     x     x     x     x     o     o     o     b     b      1\n",
              "4     x     x     x     x     o     o     b     o     b      1"
            ]
          },
          "metadata": {
            "tags": []
          },
          "execution_count": 13
        }
      ]
    },
    {
      "cell_type": "code",
      "metadata": {
        "id": "i9k29u8jcs1Z",
        "colab_type": "code",
        "colab": {
          "base_uri": "https://localhost:8080/",
          "height": 187
        },
        "outputId": "966f00b1-8dbe-4545-9045-186a8de9622a"
      },
      "source": [
        "list(df.keys())\n",
        "#t_l_s --> top left square\n",
        "#m_r_s --> middle right square\n",
        "#b_m_s --> bottom middel square"
      ],
      "execution_count": 14,
      "outputs": [
        {
          "output_type": "execute_result",
          "data": {
            "text/plain": [
              "['t_l_s',\n",
              " 't_m_s',\n",
              " 't_r_s',\n",
              " 'm_l_s',\n",
              " 'm_m_s',\n",
              " 'm_r_s',\n",
              " 'b_l_s',\n",
              " 'b_m_s',\n",
              " 'b_r_S',\n",
              " 'class']"
            ]
          },
          "metadata": {
            "tags": []
          },
          "execution_count": 14
        }
      ]
    },
    {
      "cell_type": "code",
      "metadata": {
        "id": "tx_qDbwJc85d",
        "colab_type": "code",
        "colab": {}
      },
      "source": [
        "feature_columns = []\n",
        "for header in ['t_l_s', 't_m_s', 't_r_s', 'm_l_s', 'm_m_s', 'm_r_s', 'b_l_s', 'b_m_s', 'b_r_S']:\n",
        "  fc = feature_column.categorical_column_with_vocabulary_list(header, df[header].unique())\n",
        "  feature_columns.append(feature_column.indicator_column(fc))"
      ],
      "execution_count": 0,
      "outputs": []
    },
    {
      "cell_type": "code",
      "metadata": {
        "id": "AwsJCPJhdrI9",
        "colab_type": "code",
        "colab": {}
      },
      "source": [
        "train, val = train_test_split(df, test_size=0.2)\n",
        "\n",
        "y_train = train.pop('class')\n",
        "y_eval  = val.pop('class')"
      ],
      "execution_count": 0,
      "outputs": []
    },
    {
      "cell_type": "code",
      "metadata": {
        "id": "QajZYedvdyCl",
        "colab_type": "code",
        "colab": {}
      },
      "source": [
        "def make_input_fn(df, y_df, shuffle=True, num_epochs=10, batch_size=32):\n",
        "  def input_fn():\n",
        "    ds = tf.data.Dataset.from_tensor_slices((dict(df), y_df))\n",
        "    if shuffle:\n",
        "      ds = ds.shuffle(1000)\n",
        "    ds = ds.batch(batch_size).repeat(num_epochs)\n",
        "    return ds\n",
        "  return input_fn"
      ],
      "execution_count": 0,
      "outputs": []
    },
    {
      "cell_type": "code",
      "metadata": {
        "id": "HeCT3MeMeq71",
        "colab_type": "code",
        "colab": {}
      },
      "source": [
        "train_input_fn = make_input_fn(train, y_train, shuffle=True)\n",
        "eval_input_fn  = make_input_fn(val  , y_eval , shuffle=False, num_epochs=1    )"
      ],
      "execution_count": 0,
      "outputs": []
    },
    {
      "cell_type": "code",
      "metadata": {
        "id": "fa--fpUefES5",
        "colab_type": "code",
        "colab": {
          "base_uri": "https://localhost:8080/",
          "height": 649
        },
        "outputId": "abeb6972-02d1-4151-fb01-1bbf0782aa36"
      },
      "source": [
        "#Estimator initialization:\n",
        "linear_est = tf.estimator.LinearClassifier(feature_columns=feature_columns)\n",
        "linear_est.train(train_input_fn)\n",
        "result = linear_est.evaluate(eval_input_fn)\n",
        "print(\"Result--->\", result)"
      ],
      "execution_count": 28,
      "outputs": [
        {
          "output_type": "stream",
          "text": [
            "INFO:tensorflow:Using default config.\n",
            "WARNING:tensorflow:Using temporary folder as model directory: /tmp/tmprje0daj5\n",
            "INFO:tensorflow:Using config: {'_model_dir': '/tmp/tmprje0daj5', '_tf_random_seed': None, '_save_summary_steps': 100, '_save_checkpoints_steps': None, '_save_checkpoints_secs': 600, '_session_config': allow_soft_placement: true\n",
            "graph_options {\n",
            "  rewrite_options {\n",
            "    meta_optimizer_iterations: ONE\n",
            "  }\n",
            "}\n",
            ", '_keep_checkpoint_max': 5, '_keep_checkpoint_every_n_hours': 10000, '_log_step_count_steps': 100, '_train_distribute': None, '_device_fn': None, '_protocol': None, '_eval_distribute': None, '_experimental_distribute': None, '_experimental_max_worker_delay_secs': None, '_session_creation_timeout_secs': 7200, '_service': None, '_cluster_spec': <tensorflow.python.training.server_lib.ClusterSpec object at 0x7fe3852744e0>, '_task_type': 'worker', '_task_id': 0, '_global_id_in_cluster': 0, '_master': '', '_evaluation_master': '', '_is_chief': True, '_num_ps_replicas': 0, '_num_worker_replicas': 1}\n",
            "INFO:tensorflow:Calling model_fn.\n",
            "INFO:tensorflow:Done calling model_fn.\n",
            "INFO:tensorflow:Create CheckpointSaverHook.\n",
            "INFO:tensorflow:Graph was finalized.\n",
            "INFO:tensorflow:Running local_init_op.\n",
            "INFO:tensorflow:Done running local_init_op.\n",
            "INFO:tensorflow:Saving checkpoints for 0 into /tmp/tmprje0daj5/model.ckpt.\n",
            "INFO:tensorflow:loss = 22.18071, step = 1\n",
            "INFO:tensorflow:global_step/sec: 310.361\n",
            "INFO:tensorflow:loss = 16.008732, step = 101 (0.326 sec)\n",
            "INFO:tensorflow:global_step/sec: 586.758\n",
            "INFO:tensorflow:loss = 10.083985, step = 201 (0.171 sec)\n",
            "INFO:tensorflow:Saving checkpoints for 240 into /tmp/tmprje0daj5/model.ckpt.\n",
            "INFO:tensorflow:Loss for final step: 13.6415205.\n",
            "INFO:tensorflow:Calling model_fn.\n",
            "WARNING:tensorflow:Trapezoidal rule is known to produce incorrect PR-AUCs; please switch to \"careful_interpolation\" instead.\n",
            "WARNING:tensorflow:Trapezoidal rule is known to produce incorrect PR-AUCs; please switch to \"careful_interpolation\" instead.\n",
            "INFO:tensorflow:Done calling model_fn.\n",
            "INFO:tensorflow:Starting evaluation at 2020-02-10T14:28:32Z\n",
            "INFO:tensorflow:Graph was finalized.\n",
            "INFO:tensorflow:Restoring parameters from /tmp/tmprje0daj5/model.ckpt-240\n",
            "INFO:tensorflow:Running local_init_op.\n",
            "INFO:tensorflow:Done running local_init_op.\n",
            "INFO:tensorflow:Finished evaluation at 2020-02-10-14:28:33\n",
            "INFO:tensorflow:Saving dict for global step 240: accuracy = 0.8020833, accuracy_baseline = 0.6770833, auc = 0.903474, auc_precision_recall = 0.9562603, average_loss = 0.40391096, global_step = 240, label/mean = 0.6770833, loss = 12.925151, precision = 0.7987013, prediction/mean = 0.67443395, recall = 0.9461538\n",
            "INFO:tensorflow:Saving 'checkpoint_path' summary for global step 240: /tmp/tmprje0daj5/model.ckpt-240\n",
            "Result---> {'accuracy': 0.8020833, 'accuracy_baseline': 0.6770833, 'auc': 0.903474, 'auc_precision_recall': 0.9562603, 'average_loss': 0.40391096, 'label/mean': 0.6770833, 'loss': 12.925151, 'precision': 0.7987013, 'prediction/mean': 0.67443395, 'recall': 0.9461538, 'global_step': 240}\n"
          ],
          "name": "stdout"
        }
      ]
    },
    {
      "cell_type": "code",
      "metadata": {
        "id": "X2ZJwhtNfsuD",
        "colab_type": "code",
        "colab": {}
      },
      "source": [
        ""
      ],
      "execution_count": 0,
      "outputs": []
    }
  ]
}