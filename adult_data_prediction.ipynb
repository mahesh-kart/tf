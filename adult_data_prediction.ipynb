{
  "nbformat": 4,
  "nbformat_minor": 0,
  "metadata": {
    "colab": {
      "name": "adult_data_prediction.ipynb",
      "provenance": [],
      "collapsed_sections": [],
      "authorship_tag": "ABX9TyPXxYdEQo4wFKY6zfcB9dHu",
      "include_colab_link": true
    },
    "kernelspec": {
      "name": "python3",
      "display_name": "Python 3"
    },
    "accelerator": "GPU"
  },
  "cells": [
    {
      "cell_type": "markdown",
      "metadata": {
        "id": "view-in-github",
        "colab_type": "text"
      },
      "source": [
        "<a href=\"https://colab.research.google.com/github/shravanc/tf/blob/master/adult_data_prediction.ipynb\" target=\"_parent\"><img src=\"https://colab.research.google.com/assets/colab-badge.svg\" alt=\"Open In Colab\"/></a>"
      ]
    },
    {
      "cell_type": "code",
      "metadata": {
        "id": "btaqDrXX7-Hi",
        "colab_type": "code",
        "colab": {}
      },
      "source": [
        "from __future__ import absolute_import, division, print_function, unicode_literals\n",
        "\n",
        "try:\n",
        "  # %tensorflow_version only exists in Colab.\n",
        "  %tensorflow_version 2.x\n",
        "except Exception:\n",
        "  pass\n",
        "\n",
        "import numpy as np\n",
        "import pandas as pd\n",
        "\n",
        "import tensorflow as tf\n",
        "\n",
        "from tensorflow import feature_column\n",
        "from tensorflow.keras import layers\n",
        "from sklearn.model_selection import train_test_split"
      ],
      "execution_count": 0,
      "outputs": []
    },
    {
      "cell_type": "code",
      "metadata": {
        "id": "bwPh_90q8FE7",
        "colab_type": "code",
        "outputId": "c265ba33-58f0-48e4-813f-10efc2bc20e2",
        "colab": {
          "base_uri": "https://localhost:8080/",
          "height": 204
        }
      },
      "source": [
        "URL = 'https://raw.githubusercontent.com/shravanc/tf/master/tensorflow_api_tutorials/adult/adult.data.csv'\n",
        "df  = pd.read_csv(URL)\n",
        "df.head()"
      ],
      "execution_count": 0,
      "outputs": [
        {
          "output_type": "execute_result",
          "data": {
            "text/html": [
              "<div>\n",
              "<style scoped>\n",
              "    .dataframe tbody tr th:only-of-type {\n",
              "        vertical-align: middle;\n",
              "    }\n",
              "\n",
              "    .dataframe tbody tr th {\n",
              "        vertical-align: top;\n",
              "    }\n",
              "\n",
              "    .dataframe thead th {\n",
              "        text-align: right;\n",
              "    }\n",
              "</style>\n",
              "<table border=\"1\" class=\"dataframe\">\n",
              "  <thead>\n",
              "    <tr style=\"text-align: right;\">\n",
              "      <th></th>\n",
              "      <th>age</th>\n",
              "      <th>workclass</th>\n",
              "      <th>fnlwgt</th>\n",
              "      <th>education</th>\n",
              "      <th>education_num</th>\n",
              "      <th>martial_status</th>\n",
              "      <th>occupation</th>\n",
              "      <th>relationship</th>\n",
              "      <th>race</th>\n",
              "      <th>sex</th>\n",
              "      <th>capital_gain</th>\n",
              "      <th>capital_loss</th>\n",
              "      <th>hours_per_week</th>\n",
              "      <th>native_country</th>\n",
              "      <th>good_salary</th>\n",
              "    </tr>\n",
              "  </thead>\n",
              "  <tbody>\n",
              "    <tr>\n",
              "      <th>0</th>\n",
              "      <td>39</td>\n",
              "      <td>State-gov</td>\n",
              "      <td>77516</td>\n",
              "      <td>Bachelors</td>\n",
              "      <td>13</td>\n",
              "      <td>Never-married</td>\n",
              "      <td>Adm-clerical</td>\n",
              "      <td>Not-in-family</td>\n",
              "      <td>White</td>\n",
              "      <td>Male</td>\n",
              "      <td>2174</td>\n",
              "      <td>0</td>\n",
              "      <td>40</td>\n",
              "      <td>United-States</td>\n",
              "      <td>0</td>\n",
              "    </tr>\n",
              "    <tr>\n",
              "      <th>1</th>\n",
              "      <td>50</td>\n",
              "      <td>Self-emp-not-inc</td>\n",
              "      <td>83311</td>\n",
              "      <td>Bachelors</td>\n",
              "      <td>13</td>\n",
              "      <td>Married-civ-spouse</td>\n",
              "      <td>Exec-managerial</td>\n",
              "      <td>Husband</td>\n",
              "      <td>White</td>\n",
              "      <td>Male</td>\n",
              "      <td>0</td>\n",
              "      <td>0</td>\n",
              "      <td>13</td>\n",
              "      <td>United-States</td>\n",
              "      <td>0</td>\n",
              "    </tr>\n",
              "    <tr>\n",
              "      <th>2</th>\n",
              "      <td>38</td>\n",
              "      <td>Private</td>\n",
              "      <td>215646</td>\n",
              "      <td>HS-grad</td>\n",
              "      <td>9</td>\n",
              "      <td>Divorced</td>\n",
              "      <td>Handlers-cleaners</td>\n",
              "      <td>Not-in-family</td>\n",
              "      <td>White</td>\n",
              "      <td>Male</td>\n",
              "      <td>0</td>\n",
              "      <td>0</td>\n",
              "      <td>40</td>\n",
              "      <td>United-States</td>\n",
              "      <td>0</td>\n",
              "    </tr>\n",
              "    <tr>\n",
              "      <th>3</th>\n",
              "      <td>53</td>\n",
              "      <td>Private</td>\n",
              "      <td>234721</td>\n",
              "      <td>11th</td>\n",
              "      <td>7</td>\n",
              "      <td>Married-civ-spouse</td>\n",
              "      <td>Handlers-cleaners</td>\n",
              "      <td>Husband</td>\n",
              "      <td>Black</td>\n",
              "      <td>Male</td>\n",
              "      <td>0</td>\n",
              "      <td>0</td>\n",
              "      <td>40</td>\n",
              "      <td>United-States</td>\n",
              "      <td>0</td>\n",
              "    </tr>\n",
              "    <tr>\n",
              "      <th>4</th>\n",
              "      <td>28</td>\n",
              "      <td>Private</td>\n",
              "      <td>338409</td>\n",
              "      <td>Bachelors</td>\n",
              "      <td>13</td>\n",
              "      <td>Married-civ-spouse</td>\n",
              "      <td>Prof-specialty</td>\n",
              "      <td>Wife</td>\n",
              "      <td>Black</td>\n",
              "      <td>Female</td>\n",
              "      <td>0</td>\n",
              "      <td>0</td>\n",
              "      <td>40</td>\n",
              "      <td>Cuba</td>\n",
              "      <td>0</td>\n",
              "    </tr>\n",
              "  </tbody>\n",
              "</table>\n",
              "</div>"
            ],
            "text/plain": [
              "   age          workclass  fnlwgt  ... hours_per_week  native_country good_salary\n",
              "0   39          State-gov   77516  ...             40   United-States           0\n",
              "1   50   Self-emp-not-inc   83311  ...             13   United-States           0\n",
              "2   38            Private  215646  ...             40   United-States           0\n",
              "3   53            Private  234721  ...             40   United-States           0\n",
              "4   28            Private  338409  ...             40            Cuba           0\n",
              "\n",
              "[5 rows x 15 columns]"
            ]
          },
          "metadata": {
            "tags": []
          },
          "execution_count": 39
        }
      ]
    },
    {
      "cell_type": "code",
      "metadata": {
        "id": "7mMbQdRM8R9c",
        "colab_type": "code",
        "colab": {}
      },
      "source": [
        "train, test = train_test_split(df, test_size=0.2)\n",
        "train, val  = train_test_split(train, test_size=0.2)\n"
      ],
      "execution_count": 0,
      "outputs": []
    },
    {
      "cell_type": "code",
      "metadata": {
        "id": "9eGL8NMl8eZg",
        "colab_type": "code",
        "colab": {}
      },
      "source": [
        "def df_to_dataset(df, shuffle=True, batch_size=32):\n",
        "  df = df.copy()\n",
        "  labels = df.pop('good_salary')\n",
        "  ds = tf.data.Dataset.from_tensor_slices((dict(df) , labels))\n",
        "  if shuffle:\n",
        "    ds.shuffle(buffer_size=len(df))\n",
        "  ds = ds.batch(batch_size)\n",
        "  return ds\n"
      ],
      "execution_count": 0,
      "outputs": []
    },
    {
      "cell_type": "code",
      "metadata": {
        "id": "nWKdFvLY9ELG",
        "colab_type": "code",
        "colab": {}
      },
      "source": [
        "batch_size=32\n",
        "train_ds = df_to_dataset(train, shuffle=True , batch_size=batch_size)\n",
        "val_ds   = df_to_dataset(val  , shuffle=False, batch_size=batch_size)\n",
        "test_ds  = df_to_dataset(test , shuffle=False, batch_size=batch_size)\n"
      ],
      "execution_count": 0,
      "outputs": []
    },
    {
      "cell_type": "code",
      "metadata": {
        "id": "HD1QUWcy9r7f",
        "colab_type": "code",
        "outputId": "6f6a0098-6133-4a64-c3ac-237bde0d49dc",
        "colab": {
          "base_uri": "https://localhost:8080/",
          "height": 34
        }
      },
      "source": [
        "for train_batch, label_batch in train_ds.take(1):\n",
        "  print(list(train_batch.keys()))"
      ],
      "execution_count": 0,
      "outputs": [
        {
          "output_type": "stream",
          "text": [
            "['age', 'workclass', 'fnlwgt', 'education', 'education_num', 'martial_status', 'occupation', 'relationship', 'race', 'sex', 'capital_gain', 'capital_loss', 'hours_per_week', 'native_country']\n"
          ],
          "name": "stdout"
        }
      ]
    },
    {
      "cell_type": "code",
      "metadata": {
        "id": "rcO_BRyg-Ihs",
        "colab_type": "code",
        "colab": {}
      },
      "source": [
        "feature_columns = []"
      ],
      "execution_count": 0,
      "outputs": []
    },
    {
      "cell_type": "code",
      "metadata": {
        "id": "AAhup-Ae-QnN",
        "colab_type": "code",
        "colab": {}
      },
      "source": [
        "feature_columns = []\n",
        "numeric_headers = ['age', 'education_num', 'fnlwgt', 'capital_gain', 'capital_loss', 'hours_per_week']\n",
        "for header in numeric_headers:\n",
        "  feature_columns.append(feature_column.numeric_column(header))\n"
      ],
      "execution_count": 0,
      "outputs": []
    },
    {
      "cell_type": "code",
      "metadata": {
        "id": "_MPTs7u7_wl5",
        "colab_type": "code",
        "colab": {}
      },
      "source": [
        "# embedding\n",
        "# native_country\n",
        "country = feature_column.categorical_column_with_vocabulary_list('native_country', df['native_country'].unique())\n",
        "country_embedding = feature_column.embedding_column(country, dimension=40)\n",
        "feature_columns.append(country_embedding)\n",
        "#demo(country_embedding)\n",
        "\n",
        "occupation = feature_column.categorical_column_with_vocabulary_list('occupation', df['occupation'].unique())\n",
        "occupation_embedding = feature_column.embedding_column(occupation, dimension=10)\n",
        "feature_columns.append(occupation_embedding)\n",
        "#demo(occupation_embedding)\n",
        "\n",
        "education = feature_column.categorical_column_with_vocabulary_list('education', df['education'].unique())\n",
        "education_embedding = feature_column.embedding_column(education, dimension=20)\n",
        "feature_columns.append(education_embedding)\n"
      ],
      "execution_count": 0,
      "outputs": []
    },
    {
      "cell_type": "code",
      "metadata": {
        "id": "EGx7OVL1FUns",
        "colab_type": "code",
        "colab": {}
      },
      "source": [
        "#indicator cols\n",
        "relationship = feature_column.categorical_column_with_vocabulary_list('relationship', df['relationship'].unique())\n",
        "relationship_one_hot = feature_column.indicator_column(relationship)\n",
        "feature_columns.append(relationship_one_hot)\n",
        "\n",
        "#sex\n",
        "sex = feature_column.categorical_column_with_vocabulary_list('sex', df['sex'].unique())\n",
        "sex_one_hot = feature_column.indicator_column(sex)\n",
        "feature_columns.append(sex_one_hot)\n",
        "\n",
        "#race\n",
        "race = feature_column.categorical_column_with_vocabulary_list('race', df['race'].unique())\n",
        "race_one_hot = feature_column.indicator_column(race)\n",
        "feature_columns.append(race_one_hot)\n",
        "\n",
        "#workclass\n",
        "workclass = feature_column.categorical_column_with_vocabulary_list('workclass', df['workclass'].unique())\n",
        "workclass_one_hot = feature_column.indicator_column(workclass)\n",
        "feature_columns.append(workclass_one_hot)\n",
        "\n",
        "#bucketize cols\n",
        "age = feature_column.numeric_column('age')\n",
        "age_buckets = feature_column.bucketized_column(age, boundaries=[18, 25, 30, 35, 40, 45, 50, 55, 60, 65])\n",
        "feature_columns.append(age_buckets)\n",
        "\n",
        "hours_per_week = feature_column.numeric_column('hours_per_week')\n",
        "hours_per_week_bucketize = feature_column.bucketized_column(hours_per_week, boundaries=[15, 20, 25, 30, 35, 40, 45, 50, 60])\n",
        "feature_columns.append(hours_per_week_bucketize)\n",
        "\n",
        "#hashed bucket\n",
        "martial_status_hashed = feature_column.categorical_column_with_hash_bucket(\n",
        "                  'martial_status', hash_bucket_size=1000)\n",
        "martial_status_one_hot = feature_column.indicator_column(martial_status_hashed)\n",
        "feature_columns.append(martial_status_one_hot)"
      ],
      "execution_count": 0,
      "outputs": []
    },
    {
      "cell_type": "markdown",
      "metadata": {
        "id": "DFS3KvjpDIZN",
        "colab_type": "text"
      },
      "source": [
        "**Building Model**"
      ]
    },
    {
      "cell_type": "code",
      "metadata": {
        "id": "xuaHSgDtDFhz",
        "colab_type": "code",
        "outputId": "bf5be327-47b5-4e4f-b4c3-6063a4a0a921",
        "colab": {
          "base_uri": "https://localhost:8080/",
          "height": 408
        }
      },
      "source": [
        "feature_layer = tf.keras.layers.DenseFeatures(feature_columns)\n",
        "\n",
        "model = tf.keras.Sequential([\n",
        "        feature_layer,\n",
        "        tf.keras.layers.Dense(128, activation='relu'),\n",
        "        tf.keras.layers.Dense(128, activation='relu'),\n",
        "        tf.keras.layers.Dense(1)\n",
        "])\n",
        "\n",
        "model.compile(optimizer='adam',\n",
        "              loss=tf.keras.losses.BinaryCrossentropy(from_logits=True),\n",
        "              metrics=['accuracy'])\n",
        "\n",
        "model.fit(train_ds, validation_data=val_ds, epochs=10)\n",
        "\n",
        "loss, accuracy = model.evaluate(test_ds)\n",
        "print(\"Accuracy---->\", accuracy)\n"
      ],
      "execution_count": 0,
      "outputs": [
        {
          "output_type": "stream",
          "text": [
            "Train for 652 steps, validate for 163 steps\n",
            "Epoch 1/10\n",
            "652/652 [==============================] - 8s 13ms/step - loss: 181.8839 - accuracy: 0.6723 - val_loss: 159.7808 - val_accuracy: 0.7898\n",
            "Epoch 2/10\n",
            "652/652 [==============================] - 7s 11ms/step - loss: 68.4160 - accuracy: 0.6946 - val_loss: 45.9904 - val_accuracy: 0.7985\n",
            "Epoch 3/10\n",
            "652/652 [==============================] - 7s 10ms/step - loss: 38.6588 - accuracy: 0.6996 - val_loss: 14.1748 - val_accuracy: 0.7958\n",
            "Epoch 4/10\n",
            "652/652 [==============================] - 7s 10ms/step - loss: 24.3752 - accuracy: 0.7172 - val_loss: 5.2974 - val_accuracy: 0.7649\n",
            "Epoch 5/10\n",
            "652/652 [==============================] - 7s 10ms/step - loss: 13.7516 - accuracy: 0.7295 - val_loss: 4.6773 - val_accuracy: 0.7668\n",
            "Epoch 6/10\n",
            "652/652 [==============================] - 7s 10ms/step - loss: 11.7559 - accuracy: 0.7294 - val_loss: 6.4269 - val_accuracy: 0.8006\n",
            "Epoch 7/10\n",
            "652/652 [==============================] - 7s 11ms/step - loss: 9.0754 - accuracy: 0.7275 - val_loss: 2.0822 - val_accuracy: 0.7647\n",
            "Epoch 8/10\n",
            "652/652 [==============================] - 7s 11ms/step - loss: 5.0321 - accuracy: 0.7431 - val_loss: 13.8756 - val_accuracy: 0.7881\n",
            "Epoch 9/10\n",
            "652/652 [==============================] - 7s 10ms/step - loss: 4.4303 - accuracy: 0.7377 - val_loss: 1.0307 - val_accuracy: 0.7827\n",
            "Epoch 10/10\n",
            "652/652 [==============================] - 7s 11ms/step - loss: 2.2371 - accuracy: 0.7600 - val_loss: 3.0982 - val_accuracy: 0.8036\n",
            "204/204 [==============================] - 1s 6ms/step - loss: 3.4168 - accuracy: 0.7995\n",
            "Accuracy----> 0.799478\n"
          ],
          "name": "stdout"
        }
      ]
    },
    {
      "cell_type": "code",
      "metadata": {
        "id": "sPPoBYipD-qi",
        "colab_type": "code",
        "colab": {}
      },
      "source": [
        ""
      ],
      "execution_count": 0,
      "outputs": []
    }
  ]
}